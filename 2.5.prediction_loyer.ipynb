{
 "cells": [
  {
   "cell_type": "markdown",
   "metadata": {},
   "source": [
    "## Prédiction de loyer améliorée\n",
    "\n",
    "* __Objectif__ : améliorer le modèle de prédiction de loyer, à l'aide d'une feature (variable) supplémentaire en entrée, pour obtenir un modèle plus performant. L'arrondissement de l'appartement a été ajouté. \n",
    "* __Attendus__ :\n",
    "    * séparation en training / testing set\n",
    "    * 2 propositions d'amélioration du modèle qui obtiennent de meilleures performances que la \"baseline\" (la régression linéaire avec une seule feature)\n",
    "    * sélection d'un modèle final à partir des performances\n",
    "* __Rendu__ :\n",
    "    * Fournir un fichier notebook avec l'ensemble des tests effectués ainsi que les outputs (images & graphes). \n",
    "    * Inclure des explications sur les points d'attentions dans les commentaires, ainsi que vos choix d'implémentation !"
   ]
  },
  {
   "cell_type": "code",
   "execution_count": 15,
   "metadata": {},
   "outputs": [],
   "source": [
    "import numpy as np\n",
    "import pandas as pd\n",
    "\n",
    "import matplotlib.pyplot as plt\n",
    "%matplotlib inline"
   ]
  },
  {
   "cell_type": "code",
   "execution_count": 51,
   "metadata": {},
   "outputs": [
    {
     "name": "stderr",
     "output_type": "stream",
     "text": [
      "C:\\Anaconda3\\lib\\site-packages\\sklearn\\ensemble\\weight_boosting.py:29: DeprecationWarning: numpy.core.umath_tests is an internal NumPy module and should not be imported. It will be removed in a future NumPy release.\n",
      "  from numpy.core.umath_tests import inner1d\n"
     ]
    }
   ],
   "source": [
    "from sklearn.model_selection import train_test_split\n",
    "\n",
    "from sklearn.preprocessing import OneHotEncoder\n",
    "from sklearn import svm\n",
    "from sklearn.neighbors import KNeighborsRegressor\n",
    "from sklearn.linear_model import LinearRegression, LogisticRegression\n",
    "from sklearn.svm import SVR\n",
    "from sklearn.ensemble import RandomForestRegressor\n",
    "\n",
    "from sklearn.metrics import r2_score"
   ]
  },
  {
   "cell_type": "markdown",
   "metadata": {},
   "source": [
    "## Préparation des données"
   ]
  },
  {
   "cell_type": "code",
   "execution_count": 16,
   "metadata": {},
   "outputs": [],
   "source": [
    "house_data = pd.read_csv('house_data.csv')"
   ]
  },
  {
   "cell_type": "code",
   "execution_count": 17,
   "metadata": {},
   "outputs": [
    {
     "data": {
      "text/plain": [
       "(827, 3)"
      ]
     },
     "execution_count": 17,
     "metadata": {},
     "output_type": "execute_result"
    }
   ],
   "source": [
    "# dimensions du tableau\n",
    "house_data.shape"
   ]
  },
  {
   "cell_type": "code",
   "execution_count": 18,
   "metadata": {},
   "outputs": [
    {
     "data": {
      "text/html": [
       "<div>\n",
       "<style scoped>\n",
       "    .dataframe tbody tr th:only-of-type {\n",
       "        vertical-align: middle;\n",
       "    }\n",
       "\n",
       "    .dataframe tbody tr th {\n",
       "        vertical-align: top;\n",
       "    }\n",
       "\n",
       "    .dataframe thead th {\n",
       "        text-align: right;\n",
       "    }\n",
       "</style>\n",
       "<table border=\"1\" class=\"dataframe\">\n",
       "  <thead>\n",
       "    <tr style=\"text-align: right;\">\n",
       "      <th></th>\n",
       "      <th>price</th>\n",
       "      <th>surface</th>\n",
       "      <th>arrondissement</th>\n",
       "    </tr>\n",
       "  </thead>\n",
       "  <tbody>\n",
       "    <tr>\n",
       "      <th>822</th>\n",
       "      <td>850</td>\n",
       "      <td>35.00</td>\n",
       "      <td>10.0</td>\n",
       "    </tr>\n",
       "    <tr>\n",
       "      <th>823</th>\n",
       "      <td>700</td>\n",
       "      <td>10.00</td>\n",
       "      <td>10.0</td>\n",
       "    </tr>\n",
       "    <tr>\n",
       "      <th>824</th>\n",
       "      <td>1280</td>\n",
       "      <td>34.00</td>\n",
       "      <td>10.0</td>\n",
       "    </tr>\n",
       "    <tr>\n",
       "      <th>825</th>\n",
       "      <td>1545</td>\n",
       "      <td>65.00</td>\n",
       "      <td>10.0</td>\n",
       "    </tr>\n",
       "    <tr>\n",
       "      <th>826</th>\n",
       "      <td>1000</td>\n",
       "      <td>21.43</td>\n",
       "      <td>10.0</td>\n",
       "    </tr>\n",
       "  </tbody>\n",
       "</table>\n",
       "</div>"
      ],
      "text/plain": [
       "     price  surface  arrondissement\n",
       "822    850    35.00            10.0\n",
       "823    700    10.00            10.0\n",
       "824   1280    34.00            10.0\n",
       "825   1545    65.00            10.0\n",
       "826   1000    21.43            10.0"
      ]
     },
     "execution_count": 18,
     "metadata": {},
     "output_type": "execute_result"
    }
   ],
   "source": [
    "# aperçu de la fin du tableau\n",
    "house_data.tail()"
   ]
  },
  {
   "cell_type": "code",
   "execution_count": 19,
   "metadata": {},
   "outputs": [
    {
     "name": "stdout",
     "output_type": "stream",
     "text": [
      "<class 'pandas.core.frame.DataFrame'>\n",
      "RangeIndex: 827 entries, 0 to 826\n",
      "Data columns (total 3 columns):\n",
      "price             827 non-null int64\n",
      "surface           822 non-null float64\n",
      "arrondissement    822 non-null float64\n",
      "dtypes: float64(2), int64(1)\n",
      "memory usage: 19.5 KB\n"
     ]
    }
   ],
   "source": [
    "house_data.info()"
   ]
  },
  {
   "cell_type": "code",
   "execution_count": 20,
   "metadata": {},
   "outputs": [
    {
     "data": {
      "text/plain": [
       "array([ 1., nan,  2.,  3.,  4., 10.])"
      ]
     },
     "execution_count": 20,
     "metadata": {},
     "output_type": "execute_result"
    }
   ],
   "source": [
    "house_data.arrondissement.unique()"
   ]
  },
  {
   "cell_type": "code",
   "execution_count": 21,
   "metadata": {},
   "outputs": [
    {
     "data": {
      "text/plain": [
       "[<matplotlib.lines.Line2D at 0x1fa8a7b2b38>]"
      ]
     },
     "execution_count": 21,
     "metadata": {},
     "output_type": "execute_result"
    },
    {
     "data": {
      "image/png": "[encoded data removed]",
      "text/plain": [
       "<Figure size 432x288 with 1 Axes>"
      ]
     },
     "metadata": {
      "needs_background": "light"
     },
     "output_type": "display_data"
    }
   ],
   "source": [
    "#plt.style.use('fivethirtyeight')\n",
    "plt.title(\"1er aperçu des loyers en fonction des surfaces\", fontsize='medium')\n",
    "plt.plot(house_data['surface'], house_data['price'], 'ro', markersize=2)"
   ]
  },
  {
   "cell_type": "code",
   "execution_count": 22,
   "metadata": {},
   "outputs": [],
   "source": [
    "# on enlève les valeurs lignes avec un prix sans surface ou arrondissement\n",
    "house_data = house_data.dropna(axis=0)\n",
    "\n",
    "# on enlève les valeurs aberrantes\n",
    "house_data = house_data[(house_data['price'] < 20000) & (house_data['surface'] < 300)]"
   ]
  },
  {
   "cell_type": "code",
   "execution_count": 23,
   "metadata": {},
   "outputs": [
    {
     "data": {
      "text/plain": [
       "price             False\n",
       "surface           False\n",
       "arrondissement    False\n",
       "dtype: bool"
      ]
     },
     "execution_count": 23,
     "metadata": {},
     "output_type": "execute_result"
    }
   ],
   "source": [
    "house_data.isna().any()"
   ]
  },
  {
   "cell_type": "markdown",
   "metadata": {},
   "source": [
    "## Visualisation des données"
   ]
  },
  {
   "cell_type": "code",
   "execution_count": 40,
   "metadata": {},
   "outputs": [
    {
     "data": {
      "image/png": "[encoded data removed]",
      "text/plain": [
       "<Figure size 864x864 with 5 Axes>"
      ]
     },
     "metadata": {
      "needs_background": "light"
     },
     "output_type": "display_data"
    }
   ],
   "source": [
    "# visualisation par arrondissmeent \n",
    "fig = plt.figure(figsize=(12,12))\n",
    "i = 0\n",
    "for arr in house_data['arrondissement'].unique():\n",
    "    i += 1\n",
    "    mydata = house_data[house_data.arrondissement == arr]\n",
    "    fig.add_subplot(4,2,i).set_title('Arrondissement n°{}'.format(int(arr)))\n",
    "    plt.scatter(mydata.surface, mydata.price, s=3)"
   ]
  },
  {
   "cell_type": "code",
   "execution_count": 49,
   "metadata": {},
   "outputs": [
    {
     "data": {
      "image/png": "[encoded data removed]",
      "text/plain": [
       "<Figure size 1440x720 with 1 Axes>"
      ]
     },
     "metadata": {
      "needs_background": "light"
     },
     "output_type": "display_data"
    }
   ],
   "source": [
    "plt.figure(figsize=(20,10))\n",
    "plt.title(\"Comparaison des loyers en fonction de la surface par arrondissement\")\n",
    "plt.ylabel('price')\n",
    "i, colors = 0, ['red', 'blue', 'orange', 'yellow', 'green']\n",
    "\n",
    "for arr in house_data['arrondissement'].unique():\n",
    "    mydata = house_data[house_data.arrondissement == arr]\n",
    "    plt.plot(mydata.surface, mydata.price, '.', markersize=4, color=colors[i], label='Arrondissement n°{}'.format(int(arr)))\n",
    "    i += 1\n",
    "    \n",
    "plt.legend(loc='upper left');"
   ]
  },
  {
   "cell_type": "markdown",
   "metadata": {},
   "source": [
    "## Analyse d'ensemble des données"
   ]
  },
  {
   "cell_type": "code",
   "execution_count": 52,
   "metadata": {},
   "outputs": [
    {
     "data": {
      "text/html": [
       "<div>\n",
       "<style scoped>\n",
       "    .dataframe tbody tr th:only-of-type {\n",
       "        vertical-align: middle;\n",
       "    }\n",
       "\n",
       "    .dataframe tbody tr th {\n",
       "        vertical-align: top;\n",
       "    }\n",
       "\n",
       "    .dataframe thead th {\n",
       "        text-align: right;\n",
       "    }\n",
       "</style>\n",
       "<table border=\"1\" class=\"dataframe\">\n",
       "  <thead>\n",
       "    <tr style=\"text-align: right;\">\n",
       "      <th></th>\n",
       "      <th>price</th>\n",
       "      <th>surface</th>\n",
       "      <th>arrondissement</th>\n",
       "    </tr>\n",
       "  </thead>\n",
       "  <tbody>\n",
       "    <tr>\n",
       "      <th>count</th>\n",
       "      <td>815.000000</td>\n",
       "      <td>815.000000</td>\n",
       "      <td>815.000000</td>\n",
       "    </tr>\n",
       "    <tr>\n",
       "      <th>mean</th>\n",
       "      <td>1879.229448</td>\n",
       "      <td>55.685583</td>\n",
       "      <td>4.165644</td>\n",
       "    </tr>\n",
       "    <tr>\n",
       "      <th>std</th>\n",
       "      <td>1215.919826</td>\n",
       "      <td>36.517695</td>\n",
       "      <td>3.204465</td>\n",
       "    </tr>\n",
       "    <tr>\n",
       "      <th>min</th>\n",
       "      <td>390.000000</td>\n",
       "      <td>10.000000</td>\n",
       "      <td>1.000000</td>\n",
       "    </tr>\n",
       "    <tr>\n",
       "      <th>25%</th>\n",
       "      <td>1050.000000</td>\n",
       "      <td>28.345000</td>\n",
       "      <td>2.000000</td>\n",
       "    </tr>\n",
       "    <tr>\n",
       "      <th>50%</th>\n",
       "      <td>1550.000000</td>\n",
       "      <td>46.000000</td>\n",
       "      <td>3.000000</td>\n",
       "    </tr>\n",
       "    <tr>\n",
       "      <th>75%</th>\n",
       "      <td>2317.500000</td>\n",
       "      <td>72.000000</td>\n",
       "      <td>4.000000</td>\n",
       "    </tr>\n",
       "    <tr>\n",
       "      <th>max</th>\n",
       "      <td>10500.000000</td>\n",
       "      <td>235.000000</td>\n",
       "      <td>10.000000</td>\n",
       "    </tr>\n",
       "  </tbody>\n",
       "</table>\n",
       "</div>"
      ],
      "text/plain": [
       "              price     surface  arrondissement\n",
       "count    815.000000  815.000000      815.000000\n",
       "mean    1879.229448   55.685583        4.165644\n",
       "std     1215.919826   36.517695        3.204465\n",
       "min      390.000000   10.000000        1.000000\n",
       "25%     1050.000000   28.345000        2.000000\n",
       "50%     1550.000000   46.000000        3.000000\n",
       "75%     2317.500000   72.000000        4.000000\n",
       "max    10500.000000  235.000000       10.000000"
      ]
     },
     "execution_count": 52,
     "metadata": {},
     "output_type": "execute_result"
    }
   ],
   "source": [
    "house_data.describe()"
   ]
  },
  {
   "cell_type": "markdown",
   "metadata": {},
   "source": [
    "##### Les 3 quarts des prix sont relativement bas (inférieurs à 2 320€). Ici arrondissement est un variable catégorique et non quantitative:\n",
    "    \n",
    "    https://medium.com/crim/manipuler-les-variables-cat%C3%A9goriques-dans-un-jeu-de-donn%C3%A9es-6973c54c9827"
   ]
  },
  {
   "cell_type": "markdown",
   "metadata": {},
   "source": [
    "## Séparation en training / testing set"
   ]
  },
  {
   "cell_type": "markdown",
   "metadata": {},
   "source": [
    "Les algorithmes d’apprentissage automatique prennent des valeurs numériques en entrée. Il faut trouver une façon de transformer nos modalités en données numériques.\n",
    "\n",
    "De plus, la façon dont cette transformation est opérée est très importante. En effet, le codage des variables catégoriques nuit généralement à la performance des algorithmes d’apprentissage. Un codage peut s’avérer plus judicieux qu’un autre. \n",
    "\n",
    "Le one hot encoding est la méthode la plus populaire pour transformer une variable catégorique en variable numérique. Sa popularité réside principalement dans la facilité d’application. De plus, pour beaucoup de problèmes, elle donne de bons résultats. \n",
    "\n"
   ]
  },
  {
   "cell_type": "code",
   "execution_count": 55,
   "metadata": {},
   "outputs": [
    {
     "data": {
      "text/html": [
       "<div>\n",
       "<style scoped>\n",
       "    .dataframe tbody tr th:only-of-type {\n",
       "        vertical-align: middle;\n",
       "    }\n",
       "\n",
       "    .dataframe tbody tr th {\n",
       "        vertical-align: top;\n",
       "    }\n",
       "\n",
       "    .dataframe thead th {\n",
       "        text-align: right;\n",
       "    }\n",
       "</style>\n",
       "<table border=\"1\" class=\"dataframe\">\n",
       "  <thead>\n",
       "    <tr style=\"text-align: right;\">\n",
       "      <th></th>\n",
       "      <th>price</th>\n",
       "      <th>surface</th>\n",
       "      <th>arrondissement_1.0</th>\n",
       "      <th>arrondissement_2.0</th>\n",
       "      <th>arrondissement_3.0</th>\n",
       "      <th>arrondissement_4.0</th>\n",
       "      <th>arrondissement_10.0</th>\n",
       "    </tr>\n",
       "  </thead>\n",
       "  <tbody>\n",
       "    <tr>\n",
       "      <th>0</th>\n",
       "      <td>1820</td>\n",
       "      <td>46.1</td>\n",
       "      <td>1</td>\n",
       "      <td>0</td>\n",
       "      <td>0</td>\n",
       "      <td>0</td>\n",
       "      <td>0</td>\n",
       "    </tr>\n",
       "    <tr>\n",
       "      <th>1</th>\n",
       "      <td>1750</td>\n",
       "      <td>41.0</td>\n",
       "      <td>1</td>\n",
       "      <td>0</td>\n",
       "      <td>0</td>\n",
       "      <td>0</td>\n",
       "      <td>0</td>\n",
       "    </tr>\n",
       "    <tr>\n",
       "      <th>2</th>\n",
       "      <td>1900</td>\n",
       "      <td>55.0</td>\n",
       "      <td>1</td>\n",
       "      <td>0</td>\n",
       "      <td>0</td>\n",
       "      <td>0</td>\n",
       "      <td>0</td>\n",
       "    </tr>\n",
       "    <tr>\n",
       "      <th>3</th>\n",
       "      <td>1950</td>\n",
       "      <td>46.0</td>\n",
       "      <td>1</td>\n",
       "      <td>0</td>\n",
       "      <td>0</td>\n",
       "      <td>0</td>\n",
       "      <td>0</td>\n",
       "    </tr>\n",
       "    <tr>\n",
       "      <th>4</th>\n",
       "      <td>1950</td>\n",
       "      <td>49.0</td>\n",
       "      <td>1</td>\n",
       "      <td>0</td>\n",
       "      <td>0</td>\n",
       "      <td>0</td>\n",
       "      <td>0</td>\n",
       "    </tr>\n",
       "  </tbody>\n",
       "</table>\n",
       "</div>"
      ],
      "text/plain": [
       "   price  surface  arrondissement_1.0  arrondissement_2.0  arrondissement_3.0  \\\n",
       "0   1820     46.1                   1                   0                   0   \n",
       "1   1750     41.0                   1                   0                   0   \n",
       "2   1900     55.0                   1                   0                   0   \n",
       "3   1950     46.0                   1                   0                   0   \n",
       "4   1950     49.0                   1                   0                   0   \n",
       "\n",
       "   arrondissement_4.0  arrondissement_10.0  \n",
       "0                   0                    0  \n",
       "1                   0                    0  \n",
       "2                   0                    0  \n",
       "3                   0                    0  \n",
       "4                   0                    0  "
      ]
     },
     "execution_count": 55,
     "metadata": {},
     "output_type": "execute_result"
    }
   ],
   "source": [
    "house_data_prepared = pd.get_dummies(house_data, prefix_sep=\"_\", columns=[\"arrondissement\"])\n",
    "house_data_prepared.head()"
   ]
  },
  {
   "cell_type": "code",
   "execution_count": 56,
   "metadata": {},
   "outputs": [
    {
     "name": "stderr",
     "output_type": "stream",
     "text": [
      "C:\\Anaconda3\\lib\\site-packages\\sklearn\\model_selection\\_split.py:2026: FutureWarning: From version 0.21, test_size will always complement train_size unless both are specified.\n",
      "  FutureWarning)\n"
     ]
    }
   ],
   "source": [
    "# Ici les données ou features sont les surfaces et les arrondissements\n",
    "# et les cibles les loyers\n",
    "X = house_data_prepared.iloc[:,1:7]\n",
    "y = house_data_prepared['price']\n",
    "\n",
    "# training set pour entraîner les modèles dans un 1er temps / puis testing set plus tard pour vérification\n",
    "# répartition classique 80/20 entre training et testing set.\n",
    "xtrain, xtest, ytrain, ytest = train_test_split(X, y, train_size=0.8)"
   ]
  },
  {
   "cell_type": "code",
   "execution_count": 58,
   "metadata": {},
   "outputs": [
    {
     "data": {
      "text/html": [
       "<div>\n",
       "<style scoped>\n",
       "    .dataframe tbody tr th:only-of-type {\n",
       "        vertical-align: middle;\n",
       "    }\n",
       "\n",
       "    .dataframe tbody tr th {\n",
       "        vertical-align: top;\n",
       "    }\n",
       "\n",
       "    .dataframe thead th {\n",
       "        text-align: right;\n",
       "    }\n",
       "</style>\n",
       "<table border=\"1\" class=\"dataframe\">\n",
       "  <thead>\n",
       "    <tr style=\"text-align: right;\">\n",
       "      <th></th>\n",
       "      <th>surface</th>\n",
       "      <th>arrondissement_1.0</th>\n",
       "      <th>arrondissement_2.0</th>\n",
       "      <th>arrondissement_3.0</th>\n",
       "      <th>arrondissement_4.0</th>\n",
       "      <th>arrondissement_10.0</th>\n",
       "    </tr>\n",
       "  </thead>\n",
       "  <tbody>\n",
       "    <tr>\n",
       "      <th>353</th>\n",
       "      <td>36.00</td>\n",
       "      <td>0</td>\n",
       "      <td>0</td>\n",
       "      <td>1</td>\n",
       "      <td>0</td>\n",
       "      <td>0</td>\n",
       "    </tr>\n",
       "    <tr>\n",
       "      <th>727</th>\n",
       "      <td>35.00</td>\n",
       "      <td>0</td>\n",
       "      <td>0</td>\n",
       "      <td>0</td>\n",
       "      <td>0</td>\n",
       "      <td>1</td>\n",
       "    </tr>\n",
       "    <tr>\n",
       "      <th>826</th>\n",
       "      <td>21.43</td>\n",
       "      <td>0</td>\n",
       "      <td>0</td>\n",
       "      <td>0</td>\n",
       "      <td>0</td>\n",
       "      <td>1</td>\n",
       "    </tr>\n",
       "    <tr>\n",
       "      <th>372</th>\n",
       "      <td>94.00</td>\n",
       "      <td>0</td>\n",
       "      <td>0</td>\n",
       "      <td>1</td>\n",
       "      <td>0</td>\n",
       "      <td>0</td>\n",
       "    </tr>\n",
       "    <tr>\n",
       "      <th>723</th>\n",
       "      <td>38.67</td>\n",
       "      <td>0</td>\n",
       "      <td>0</td>\n",
       "      <td>0</td>\n",
       "      <td>0</td>\n",
       "      <td>1</td>\n",
       "    </tr>\n",
       "  </tbody>\n",
       "</table>\n",
       "</div>"
      ],
      "text/plain": [
       "     surface  arrondissement_1.0  arrondissement_2.0  arrondissement_3.0  \\\n",
       "353    36.00                   0                   0                   1   \n",
       "727    35.00                   0                   0                   0   \n",
       "826    21.43                   0                   0                   0   \n",
       "372    94.00                   0                   0                   1   \n",
       "723    38.67                   0                   0                   0   \n",
       "\n",
       "     arrondissement_4.0  arrondissement_10.0  \n",
       "353                   0                    0  \n",
       "727                   0                    1  \n",
       "826                   0                    1  \n",
       "372                   0                    0  \n",
       "723                   0                    1  "
      ]
     },
     "execution_count": 58,
     "metadata": {},
     "output_type": "execute_result"
    }
   ],
   "source": [
    "xtrain.tail()"
   ]
  },
  {
   "cell_type": "code",
   "execution_count": 59,
   "metadata": {},
   "outputs": [
    {
     "data": {
      "text/plain": [
       "573    1750\n",
       "620     885\n",
       "786    2748\n",
       "352    1100\n",
       "114    3000\n",
       "Name: price, dtype: int64"
      ]
     },
     "execution_count": 59,
     "metadata": {},
     "output_type": "execute_result"
    }
   ],
   "source": [
    "ytest.head()"
   ]
  },
  {
   "cell_type": "markdown",
   "metadata": {},
   "source": [
    "En suivant le diagramme pour choisir le bon modèle d'estimation ici : https://scikit-learn.org/stable/tutorial/machine_learning_map/index.html \n",
    "\n",
    "Regression -> samples < 100k -> few features should be important -> on obtient 2 types de modèles qui pourraient convenir : Lasso & ElasticNet\n",
    "Néanmoins il semblearait que toutes les méthodes suivantes fonctionnent (avec + ou - d'efficacité) :\n",
    "* LinearRegression(),\n",
    "* RandomForestRegressor(),\n",
    "* KNeighborsRegressor(),\n",
    "* SVR()"
   ]
  },
  {
   "cell_type": "markdown",
   "metadata": {},
   "source": [
    "#### Procédure:\n",
    "\n",
    "source : https://makina-corpus.com/blog/metier/2017/initiation-au-machine-learning-avec-python-pratique\n",
    "\n",
    "L'algorithme de prédiction est représenté par une classe.\n",
    "* Commencer par choisir l'algorithme à utiliser appelé prédicteur/classifieur/estimator. Les algorithmes sont des classes Python. Les données sont toujours des tableaux Numpy/Scipy/Pandas/Python\n",
    "* Préciser ses éventuels paramètres, appelés hyperparamètres en instanciant la classe\n",
    "* Alimenter avec la fonction __fit__ dans le cas d'un apprentissage supervisé\n",
    "* Lancer la prédiction sur un ensemble de valeurs via la fonction __predict__ parfois appelée transform dans le cas de l'apprentissage non supervisé\n",
    "* Vérifier la pertinence du modèle"
   ]
  },
  {
   "cell_type": "markdown",
   "metadata": {},
   "source": [
    "## Utilisation de plusieurs modèles et comparaison des résultats"
   ]
  },
  {
   "cell_type": "code",
   "execution_count": 62,
   "metadata": {},
   "outputs": [],
   "source": [
    "model_list = [LinearRegression(),\n",
    "            RandomForestRegressor(n_estimators=100, max_features='sqrt'),\n",
    "            KNeighborsRegressor(n_neighbors=6),\n",
    "            SVR(kernel='linear')]\n",
    " \n",
    "model_results = pd.DataFrame()\n",
    "tmp = {}\n",
    " \n",
    "for model in model_list:\n",
    "    # on récupère le nom du modele\n",
    "    m = str(model)\n",
    "    \n",
    "    # et on le stocke\n",
    "    tmp['Model'] = m[:m.index('(')]\n",
    "    \n",
    "    # on fit le modele sur training dataset\n",
    "    model.fit(xtrain, ytrain)\n",
    "   \n",
    "    # on predit les prix sur le test dataset et on calcul r^2\n",
    "    tmp['r2'] = r2_score(ytest, model.predict(xtest))\n",
    "    model_results = model_results.append([tmp])\n",
    "\n",
    "model_results.set_index('Model', inplace=True)"
   ]
  },
  {
   "cell_type": "code",
   "execution_count": 65,
   "metadata": {},
   "outputs": [
    {
     "data": {
      "image/png": "[encoded data removed]",
      "text/plain": [
       "<Figure size 720x288 with 1 Axes>"
      ]
     },
     "metadata": {
      "needs_background": "light"
     },
     "output_type": "display_data"
    }
   ],
   "source": [
    "fig, axes = plt.subplots(ncols=1, figsize=(10, 4))\n",
    "\n",
    "for i, v in enumerate(model_results.r2):\n",
    "    axes.text(i-0.15, v + .01, \"%.4f\" % v)\n",
    "    \n",
    "model_results.r2.plot(ax=axes, kind='bar', title='r2')\n",
    "plt.show()"
   ]
  },
  {
   "cell_type": "markdown",
   "metadata": {},
   "source": [
    "##### Pour ce cas précis la régression linéaire est le modèle le plus efficace avec un score de r² de 0,8677 (plus c'est proche de 1 meilleur c'est)"
   ]
  },
  {
   "cell_type": "code",
   "execution_count": 70,
   "metadata": {},
   "outputs": [
    {
     "name": "stdout",
     "output_type": "stream",
     "text": [
      "Erreur regression linéaire: 0.146966\n"
     ]
    }
   ],
   "source": [
    "reg_lin = LinearRegression()\n",
    "reg_lin.fit(xtrain,ytrain)\n",
    "\n",
    "error = 1 - reg_lin.score(xtest, ytest)\n",
    "print('Erreur regression linéaire: %f' % error)"
   ]
  },
  {
   "cell_type": "code",
   "execution_count": 71,
   "metadata": {},
   "outputs": [
    {
     "name": "stdout",
     "output_type": "stream",
     "text": [
      "[  29.4025909   132.19236238   20.83565396   -9.46423543  172.56942704\n",
      " -316.13320794]\n"
     ]
    }
   ],
   "source": [
    "# les coefficients\n",
    "print(reg_lin.coef_)"
   ]
  },
  {
   "cell_type": "code",
   "execution_count": null,
   "metadata": {},
   "outputs": [],
   "source": []
  }
 ],
 "metadata": {
  "kernelspec": {
   "display_name": "Python 3",
   "language": "python",
   "name": "python3"
  },
  "language_info": {
   "codemirror_mode": {
    "name": "ipython",
    "version": 3
   },
   "file_extension": ".py",
   "mimetype": "text/x-python",
   "name": "python",
   "nbconvert_exporter": "python",
   "pygments_lexer": "ipython3",
   "version": "3.7.0"
  }
 },
 "nbformat": 4,
 "nbformat_minor": 2
}
